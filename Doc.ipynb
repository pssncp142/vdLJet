{
 "cells": [
  {
   "cell_type": "code",
   "execution_count": 1,
   "metadata": {},
   "outputs": [],
   "source": [
    "from pylab import *\n",
    "import vdLJet"
   ]
  },
  {
   "cell_type": "markdown",
   "metadata": {},
   "source": [
    "# Example Usage"
   ]
  },
  {
   "cell_type": "code",
   "execution_count": 2,
   "metadata": {},
   "outputs": [],
   "source": [
    "config = {\"F_0\": 1.,           # The peak flux density at nu_0 (@ rest frame)\n",
    "          \"R_0\": 3e8,          # Radius when flux density peaks at nu_0 (@ rest frame)\n",
    "          \"beta_b\": 1,       # Expansion speed in units of c (@ rest frame)\n",
    "          \"theta_obs\": 5,      # Observed opening angle (degrees)\n",
    "          \"inc\": 30,           # Inclination angle (degrees)\n",
    "          \"tau_0\": 1.76,       # Source opacity when the flux peaks at nu_0 \n",
    "          \"t_ej\": 10.,         # Time of the ejection (observed)\n",
    "          \"nu_0\": 2.3e11}      # Refer to F_0\n",
    "time = arange(0, 1000, 1e-3)   # Timestamps to calculate the flux"
   ]
  },
  {
   "cell_type": "code",
   "execution_count": 3,
   "metadata": {},
   "outputs": [
    {
     "ename": "ZeroDivisionError",
     "evalue": "float division",
     "output_type": "error",
     "traceback": [
      "\u001b[0;31m---------------------------------------------------------------------------\u001b[0m",
      "\u001b[0;31mZeroDivisionError\u001b[0m                         Traceback (most recent call last)",
      "\u001b[0;32m~/Documents/Gravity_Jet_Modelling/src/vdLJet.pyx\u001b[0m in \u001b[0;36mvdLJet._Lorentz_factor\u001b[0;34m()\u001b[0m\n\u001b[1;32m     19\u001b[0m \u001b[0;31m# beta_b : bulk velocity in units of c\u001b[0m\u001b[0;34m\u001b[0m\u001b[0;34m\u001b[0m\u001b[0;34m\u001b[0m\u001b[0m\n\u001b[1;32m     20\u001b[0m \u001b[0mcdef\u001b[0m \u001b[0mdouble\u001b[0m \u001b[0m_Lorentz_factor\u001b[0m\u001b[0;34m(\u001b[0m\u001b[0mdouble\u001b[0m \u001b[0mbeta_b\u001b[0m\u001b[0;34m)\u001b[0m \u001b[0mnogil\u001b[0m \u001b[0;32mexcept\u001b[0m \u001b[0;36m0\u001b[0m\u001b[0;34m:\u001b[0m\u001b[0;34m\u001b[0m\u001b[0;34m\u001b[0m\u001b[0m\n\u001b[0;32m---> 21\u001b[0;31m     \u001b[0;32mreturn\u001b[0m \u001b[0msqrt\u001b[0m\u001b[0;34m(\u001b[0m\u001b[0;36m1.\u001b[0m\u001b[0;34m/\u001b[0m\u001b[0;34m(\u001b[0m\u001b[0;36m1.\u001b[0m\u001b[0;34m-\u001b[0m\u001b[0mbeta_b\u001b[0m\u001b[0;34m**\u001b[0m\u001b[0;36m2\u001b[0m\u001b[0;34m)\u001b[0m\u001b[0;34m)\u001b[0m\u001b[0;34m\u001b[0m\u001b[0;34m\u001b[0m\u001b[0m\n\u001b[0m\u001b[1;32m     22\u001b[0m \u001b[0;34m\u001b[0m\u001b[0m\n\u001b[1;32m     23\u001b[0m \u001b[0;31m# Returns Doppler factor\u001b[0m\u001b[0;34m\u001b[0m\u001b[0;34m\u001b[0m\u001b[0;34m\u001b[0m\u001b[0m\n",
      "\u001b[0;31mZeroDivisionError\u001b[0m: float division"
     ]
    },
    {
     "name": "stderr",
     "output_type": "stream",
     "text": [
      "Exception ignored in: 'vdLJet._beta_exp'\n",
      "Traceback (most recent call last):\n",
      "  File \"src/vdLJet.pyx\", line 21, in vdLJet._Lorentz_factor\n",
      "    return sqrt(1./(1.-beta_b**2))\n",
      "ZeroDivisionError: float division\n"
     ]
    },
    {
     "ename": "ZeroDivisionError",
     "evalue": "float division",
     "output_type": "error",
     "traceback": [
      "\u001b[0;31m---------------------------------------------------------------------------\u001b[0m",
      "\u001b[0;31mZeroDivisionError\u001b[0m                         Traceback (most recent call last)",
      "\u001b[0;32m<ipython-input-3-60fe257f6db3>\u001b[0m in \u001b[0;36m<module>\u001b[0;34m\u001b[0m\n\u001b[1;32m      4\u001b[0m \u001b[0;31m# - config\u001b[0m\u001b[0;34m\u001b[0m\u001b[0;34m\u001b[0m\u001b[0;34m\u001b[0m\u001b[0m\n\u001b[1;32m      5\u001b[0m \u001b[0;31m# - mode (-1[approaching] or 1[receding])\u001b[0m\u001b[0;34m\u001b[0m\u001b[0;34m\u001b[0m\u001b[0;34m\u001b[0m\u001b[0m\n\u001b[0;32m----> 6\u001b[0;31m \u001b[0mres1\u001b[0m \u001b[0;34m=\u001b[0m \u001b[0mvdLJet\u001b[0m\u001b[0;34m.\u001b[0m\u001b[0mflux_nu_ej\u001b[0m\u001b[0;34m(\u001b[0m\u001b[0mtime\u001b[0m\u001b[0;34m,\u001b[0m \u001b[0;36m2.3e11\u001b[0m\u001b[0;34m,\u001b[0m \u001b[0mconfig\u001b[0m\u001b[0;34m,\u001b[0m \u001b[0;34m-\u001b[0m\u001b[0;36m1\u001b[0m\u001b[0;34m)\u001b[0m\u001b[0;34m\u001b[0m\u001b[0;34m\u001b[0m\u001b[0m\n\u001b[0m\u001b[1;32m      7\u001b[0m \u001b[0mres2\u001b[0m \u001b[0;34m=\u001b[0m \u001b[0mvdLJet\u001b[0m\u001b[0;34m.\u001b[0m\u001b[0mflux_nu_ej\u001b[0m\u001b[0;34m(\u001b[0m\u001b[0mtime\u001b[0m\u001b[0;34m,\u001b[0m \u001b[0;36m2.3e11\u001b[0m\u001b[0;34m,\u001b[0m \u001b[0mconfig\u001b[0m\u001b[0;34m,\u001b[0m \u001b[0;36m1\u001b[0m\u001b[0;34m)\u001b[0m\u001b[0;34m\u001b[0m\u001b[0;34m\u001b[0m\u001b[0m\n",
      "\u001b[0;32m~/Documents/Gravity_Jet_Modelling/src/vdLJet.pyx\u001b[0m in \u001b[0;36mvdLJet.flux_nu_ej\u001b[0;34m()\u001b[0m\n\u001b[1;32m    113\u001b[0m         \u001b[0;32mreturn\u001b[0m \u001b[0;32mNone\u001b[0m\u001b[0;34m\u001b[0m\u001b[0;34m\u001b[0m\u001b[0m\n\u001b[1;32m    114\u001b[0m \u001b[0;34m\u001b[0m\u001b[0m\n\u001b[0;32m--> 115\u001b[0;31m     return flux_nu_ej_raw(t, nu, config['F_0'], config['R_0'], config['beta_b'], config['theta_obs'], \n\u001b[0m\u001b[1;32m    116\u001b[0m                         config['inc'], config['tau_0'], config['t_ej'], config['nu_0'], mode)\n\u001b[1;32m    117\u001b[0m \u001b[0;34m\u001b[0m\u001b[0m\n",
      "\u001b[0;32m~/Documents/Gravity_Jet_Modelling/src/vdLJet.pyx\u001b[0m in \u001b[0;36mvdLJet.flux_nu_ej_raw\u001b[0;34m()\u001b[0m\n\u001b[1;32m    130\u001b[0m \u001b[0;34m\u001b[0m\u001b[0m\n\u001b[1;32m    131\u001b[0m     \u001b[0mcdef\u001b[0m \u001b[0mdouble\u001b[0m \u001b[0mtmp_beta_exp\u001b[0m \u001b[0;34m=\u001b[0m \u001b[0m_beta_exp\u001b[0m\u001b[0;34m(\u001b[0m\u001b[0mbeta_b\u001b[0m\u001b[0;34m,\u001b[0m \u001b[0minc\u001b[0m\u001b[0;34m/\u001b[0m\u001b[0;36m180.\u001b[0m\u001b[0;34m*\u001b[0m\u001b[0mM_PI\u001b[0m\u001b[0;34m,\u001b[0m \u001b[0mtan_theta_obs\u001b[0m\u001b[0;34m)\u001b[0m\u001b[0;34m\u001b[0m\u001b[0;34m\u001b[0m\u001b[0m\n\u001b[0;32m--> 132\u001b[0;31m     \u001b[0mcdef\u001b[0m \u001b[0mdouble\u001b[0m \u001b[0mdoppler_f\u001b[0m \u001b[0;34m=\u001b[0m \u001b[0m_Doppler_factor\u001b[0m\u001b[0;34m(\u001b[0m\u001b[0mbeta_b\u001b[0m\u001b[0;34m,\u001b[0m \u001b[0minc\u001b[0m\u001b[0;34m/\u001b[0m\u001b[0;36m180.\u001b[0m\u001b[0;34m*\u001b[0m\u001b[0mM_PI\u001b[0m\u001b[0;34m,\u001b[0m \u001b[0mmode\u001b[0m\u001b[0;34m)\u001b[0m\u001b[0;34m\u001b[0m\u001b[0;34m\u001b[0m\u001b[0m\n\u001b[0m\u001b[1;32m    133\u001b[0m     \u001b[0mcdef\u001b[0m \u001b[0mdouble\u001b[0m \u001b[0mp\u001b[0m \u001b[0;34m=\u001b[0m \u001b[0m_p_from_tau_0\u001b[0m\u001b[0;34m(\u001b[0m\u001b[0mtau_0\u001b[0m\u001b[0;34m)\u001b[0m\u001b[0;34m\u001b[0m\u001b[0;34m\u001b[0m\u001b[0m\n\u001b[1;32m    134\u001b[0m     \u001b[0mcdef\u001b[0m \u001b[0mdouble\u001b[0m \u001b[0mt_0\u001b[0m \u001b[0;34m=\u001b[0m \u001b[0m_t_0_from_tej\u001b[0m\u001b[0;34m(\u001b[0m\u001b[0mt_ej\u001b[0m\u001b[0;34m/\u001b[0m\u001b[0mdoppler_f\u001b[0m\u001b[0;34m,\u001b[0m \u001b[0mR_0\u001b[0m\u001b[0;34m,\u001b[0m \u001b[0mtmp_beta_exp\u001b[0m\u001b[0;34m)\u001b[0m\u001b[0;34m\u001b[0m\u001b[0;34m\u001b[0m\u001b[0m\n",
      "\u001b[0;32m~/Documents/Gravity_Jet_Modelling/src/vdLJet.pyx\u001b[0m in \u001b[0;36mvdLJet._Doppler_factor\u001b[0;34m()\u001b[0m\n\u001b[1;32m     27\u001b[0m \u001b[0mcdef\u001b[0m \u001b[0mdouble\u001b[0m \u001b[0m_Doppler_factor\u001b[0m\u001b[0;34m(\u001b[0m\u001b[0mdouble\u001b[0m \u001b[0mbeta_b\u001b[0m\u001b[0;34m,\u001b[0m \u001b[0mdouble\u001b[0m \u001b[0minc\u001b[0m\u001b[0;34m,\u001b[0m \u001b[0mint\u001b[0m \u001b[0mmode\u001b[0m\u001b[0;34m)\u001b[0m \u001b[0mnogil\u001b[0m \u001b[0;32mexcept\u001b[0m \u001b[0;36m0\u001b[0m\u001b[0;34m:\u001b[0m\u001b[0;34m\u001b[0m\u001b[0;34m\u001b[0m\u001b[0m\n\u001b[1;32m     28\u001b[0m     \u001b[0;32mif\u001b[0m \u001b[0mmode\u001b[0m \u001b[0;34m==\u001b[0m \u001b[0;34m-\u001b[0m\u001b[0;36m1\u001b[0m\u001b[0;34m:\u001b[0m\u001b[0;34m\u001b[0m\u001b[0;34m\u001b[0m\u001b[0m\n\u001b[0;32m---> 29\u001b[0;31m         \u001b[0;32mreturn\u001b[0m \u001b[0;36m1.\u001b[0m\u001b[0;34m/\u001b[0m\u001b[0;34m(\u001b[0m\u001b[0m_Lorentz_factor\u001b[0m\u001b[0;34m(\u001b[0m\u001b[0mbeta_b\u001b[0m\u001b[0;34m)\u001b[0m\u001b[0;34m*\u001b[0m\u001b[0;34m(\u001b[0m\u001b[0;36m1\u001b[0m\u001b[0;34m-\u001b[0m\u001b[0mbeta_b\u001b[0m\u001b[0;34m*\u001b[0m\u001b[0mcos\u001b[0m\u001b[0;34m(\u001b[0m\u001b[0minc\u001b[0m\u001b[0;34m)\u001b[0m\u001b[0;34m)\u001b[0m\u001b[0;34m)\u001b[0m\u001b[0;34m\u001b[0m\u001b[0;34m\u001b[0m\u001b[0m\n\u001b[0m\u001b[1;32m     30\u001b[0m     \u001b[0;32melif\u001b[0m \u001b[0mmode\u001b[0m \u001b[0;34m==\u001b[0m \u001b[0;36m1\u001b[0m\u001b[0;34m:\u001b[0m\u001b[0;34m\u001b[0m\u001b[0;34m\u001b[0m\u001b[0m\n\u001b[1;32m     31\u001b[0m         \u001b[0;32mreturn\u001b[0m \u001b[0;36m1.\u001b[0m\u001b[0;34m/\u001b[0m\u001b[0;34m(\u001b[0m\u001b[0m_Lorentz_factor\u001b[0m\u001b[0;34m(\u001b[0m\u001b[0mbeta_b\u001b[0m\u001b[0;34m)\u001b[0m\u001b[0;34m*\u001b[0m\u001b[0;34m(\u001b[0m\u001b[0;36m1\u001b[0m\u001b[0;34m+\u001b[0m\u001b[0mbeta_b\u001b[0m\u001b[0;34m*\u001b[0m\u001b[0mcos\u001b[0m\u001b[0;34m(\u001b[0m\u001b[0minc\u001b[0m\u001b[0;34m)\u001b[0m\u001b[0;34m)\u001b[0m\u001b[0;34m)\u001b[0m\u001b[0;34m\u001b[0m\u001b[0;34m\u001b[0m\u001b[0m\n",
      "\u001b[0;32m~/Documents/Gravity_Jet_Modelling/src/vdLJet.pyx\u001b[0m in \u001b[0;36mvdLJet._Lorentz_factor\u001b[0;34m()\u001b[0m\n\u001b[1;32m     19\u001b[0m \u001b[0;31m# beta_b : bulk velocity in units of c\u001b[0m\u001b[0;34m\u001b[0m\u001b[0;34m\u001b[0m\u001b[0;34m\u001b[0m\u001b[0m\n\u001b[1;32m     20\u001b[0m \u001b[0mcdef\u001b[0m \u001b[0mdouble\u001b[0m \u001b[0m_Lorentz_factor\u001b[0m\u001b[0;34m(\u001b[0m\u001b[0mdouble\u001b[0m \u001b[0mbeta_b\u001b[0m\u001b[0;34m)\u001b[0m \u001b[0mnogil\u001b[0m \u001b[0;32mexcept\u001b[0m \u001b[0;36m0\u001b[0m\u001b[0;34m:\u001b[0m\u001b[0;34m\u001b[0m\u001b[0;34m\u001b[0m\u001b[0m\n\u001b[0;32m---> 21\u001b[0;31m     \u001b[0;32mreturn\u001b[0m \u001b[0msqrt\u001b[0m\u001b[0;34m(\u001b[0m\u001b[0;36m1.\u001b[0m\u001b[0;34m/\u001b[0m\u001b[0;34m(\u001b[0m\u001b[0;36m1.\u001b[0m\u001b[0;34m-\u001b[0m\u001b[0mbeta_b\u001b[0m\u001b[0;34m**\u001b[0m\u001b[0;36m2\u001b[0m\u001b[0;34m)\u001b[0m\u001b[0;34m)\u001b[0m\u001b[0;34m\u001b[0m\u001b[0;34m\u001b[0m\u001b[0m\n\u001b[0m\u001b[1;32m     22\u001b[0m \u001b[0;34m\u001b[0m\u001b[0m\n\u001b[1;32m     23\u001b[0m \u001b[0;31m# Returns Doppler factor\u001b[0m\u001b[0;34m\u001b[0m\u001b[0;34m\u001b[0m\u001b[0;34m\u001b[0m\u001b[0m\n",
      "\u001b[0;31mZeroDivisionError\u001b[0m: float division"
     ]
    }
   ],
   "source": [
    "# vdLJet.flux_nu_ej\n",
    "# - Timestamps\n",
    "# - Wavelength\n",
    "# - config\n",
    "# - mode (-1[approaching] or 1[receding])\n",
    "res1 = vdLJet.flux_nu_ej(time, 2.3e11, config, -1)\n",
    "res2 = vdLJet.flux_nu_ej(time, 2.3e11, config, 1)\n"
   ]
  },
  {
   "cell_type": "markdown",
   "metadata": {},
   "source": [
    "# Reproduce Figure 5 of Tetarenko et al. (2017) @ 230 GHz"
   ]
  },
  {
   "cell_type": "code",
   "execution_count": null,
   "metadata": {},
   "outputs": [],
   "source": [
    "# From Tetarenko et al. (Table 2)\n",
    "data = [[57195.4331, 39.73, 4.06, 1.96, 986.8, 0.290],\n",
    "        [57195.4418, 58.80, 9.86, 2.6, 1672.6, 0.115],\n",
    "        [57195.4733, 87.98, 5.36, 1.28, 3909.1, 0.574],\n",
    "        [57195.4785, 68.47, 4.63, 1.58, 2050.1, 0.392],\n",
    "        [57195.5213, 75.23, 5.15, 1.72, 5496.2, 0.861],\n",
    "        [57195.5228, 85.51, 6.06, 1.71, 2404.7, 0.606],\n",
    "        [57195.5275, 87.86, 6.95, 1.20, 1756.4, 0.186],\n",
    "        [57195.5297, 87.84, 7.72, 2.10, 1491.9, 0.085]]"
   ]
  },
  {
   "cell_type": "code",
   "execution_count": null,
   "metadata": {
    "scrolled": false
   },
   "outputs": [],
   "source": [
    "plt.figure(figsize=(14,10))\n",
    "\n",
    "n_p = 100000\n",
    "res = zeros([n_p])\n",
    "time = linspace(0, 0.18, n_p)*24*60*60\n",
    "for i in range(8):\n",
    "    config = {\"F_0\": data[i][4]*1e-3, \n",
    "              # this is to fix R_O using equation 6\n",
    "              \"R_0\": vdLJet._from_F_0_to_R_0(data[i][4]*1e-23, 2.39*3.09e19, data[i][3]), \n",
    "              \"beta_b\": data[i][5], \n",
    "              \"theta_obs\": data[i][2], \n",
    "              \"inc\": data[i][1], \n",
    "              \"tau_0\": data[i][3], \n",
    "              \"t_ej\": (data[i][0]-data[0][0])*24*60*60., \n",
    "              \"nu_0\": 2.3e11}\n",
    "    tmp = vdLJet.flux_nu_ej(time, 2.3e11, config, 1, False)*1e3\n",
    "    plt.plot(time, tmp, 'b--')\n",
    "    res += tmp\n",
    "    tmp = vdLJet.flux_nu_ej(time, 2.3e11, config, -1, False)*1e3\n",
    "    plt.plot(time, tmp, 'r--')\n",
    "    res += tmp\n",
    "    \n",
    "plt.plot(time, res, 'k-')\n",
    "plt.ylim([0, 7e3])\n",
    "plt.ylabel(\"Flux (mJy)\")\n",
    "plt.xlabel(\"Time (seconds)\")\n",
    "plt.title(\"blue - receding / red - approaching jet / black - sum of all flux (at 230 GHz)\")\n",
    "plt.savefig(\"results/Tetarenko_jet.png\")"
   ]
  },
  {
   "cell_type": "code",
   "execution_count": null,
   "metadata": {},
   "outputs": [],
   "source": []
  }
 ],
 "metadata": {
  "kernelspec": {
   "display_name": "Python 3",
   "language": "python",
   "name": "python3"
  },
  "language_info": {
   "codemirror_mode": {
    "name": "ipython",
    "version": 3
   },
   "file_extension": ".py",
   "mimetype": "text/x-python",
   "name": "python",
   "nbconvert_exporter": "python",
   "pygments_lexer": "ipython3",
   "version": "3.6.9"
  }
 },
 "nbformat": 4,
 "nbformat_minor": 2
}
